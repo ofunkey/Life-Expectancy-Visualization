{
 "cells": [
  {
   "cell_type": "code",
   "execution_count": 1,
   "metadata": {
    "scrolled": true
   },
   "outputs": [],
   "source": [
    "import numpy as np\n",
    "import pandas as pd\n",
    "\n",
    "import matplotlib.pyplot as plt\n",
    "import matplotlib.patches as mpatches\n",
    "import seaborn as sns\n",
    "sns.set_style('darkgrid')\n",
    "\n",
    "%matplotlib inline\n",
    "#%config InlineBackend.figure_format = 'retina'\n",
    "#%load_ext watermark\n",
    "#%watermark -v -d -a 'W. Blake Cannon - Caprinomics.com' -p matplotlib,numpy,pandas\n",
    "\n",
    "\n"
   ]
  },
  {
   "cell_type": "code",
   "execution_count": 2,
   "metadata": {},
   "outputs": [],
   "source": [
    "data = \"gapminder.tsv\""
   ]
  },
  {
   "cell_type": "code",
   "execution_count": 3,
   "metadata": {},
   "outputs": [
    {
     "name": "stdout",
     "output_type": "stream",
     "text": [
      "<class 'pandas.core.frame.DataFrame'>\n",
      "RangeIndex: 1704 entries, 0 to 1703\n",
      "Data columns (total 6 columns):\n",
      "country      1704 non-null object\n",
      "continent    1704 non-null object\n",
      "year         1704 non-null int64\n",
      "lifeExp      1704 non-null float64\n",
      "pop          1704 non-null int64\n",
      "gdpPercap    1704 non-null float64\n",
      "dtypes: float64(2), int64(2), object(2)\n",
      "memory usage: 80.0+ KB\n"
     ]
    }
   ],
   "source": [
    "# Read CSV\n",
    "df_raw = pd.read_csv('gapminder.tsv', sep='\\t')\n",
    "#print(df_raw.shape)\n",
    "df_raw.head()\n",
    "df_raw.info()\n"
   ]
  },
  {
   "cell_type": "code",
   "execution_count": 4,
   "metadata": {},
   "outputs": [],
   "source": [
    "df = df_raw.groupby(['country']).mean() "
   ]
  },
  {
   "cell_type": "code",
   "execution_count": 5,
   "metadata": {},
   "outputs": [
    {
     "data": {
      "text/html": [
       "<div>\n",
       "<style scoped>\n",
       "    .dataframe tbody tr th:only-of-type {\n",
       "        vertical-align: middle;\n",
       "    }\n",
       "\n",
       "    .dataframe tbody tr th {\n",
       "        vertical-align: top;\n",
       "    }\n",
       "\n",
       "    .dataframe thead th {\n",
       "        text-align: right;\n",
       "    }\n",
       "</style>\n",
       "<table border=\"1\" class=\"dataframe\">\n",
       "  <thead>\n",
       "    <tr style=\"text-align: right;\">\n",
       "      <th></th>\n",
       "      <th>year</th>\n",
       "      <th>lifeExp</th>\n",
       "      <th>pop</th>\n",
       "      <th>gdpPercap</th>\n",
       "    </tr>\n",
       "    <tr>\n",
       "      <th>country</th>\n",
       "      <th></th>\n",
       "      <th></th>\n",
       "      <th></th>\n",
       "      <th></th>\n",
       "    </tr>\n",
       "  </thead>\n",
       "  <tbody>\n",
       "    <tr>\n",
       "      <th>Afghanistan</th>\n",
       "      <td>1979.5</td>\n",
       "      <td>37.478833</td>\n",
       "      <td>1.582372e+07</td>\n",
       "      <td>802.674598</td>\n",
       "    </tr>\n",
       "    <tr>\n",
       "      <th>Albania</th>\n",
       "      <td>1979.5</td>\n",
       "      <td>68.432917</td>\n",
       "      <td>2.580249e+06</td>\n",
       "      <td>3255.366633</td>\n",
       "    </tr>\n",
       "    <tr>\n",
       "      <th>Algeria</th>\n",
       "      <td>1979.5</td>\n",
       "      <td>59.030167</td>\n",
       "      <td>1.987541e+07</td>\n",
       "      <td>4426.025973</td>\n",
       "    </tr>\n",
       "  </tbody>\n",
       "</table>\n",
       "</div>"
      ],
      "text/plain": [
       "               year    lifeExp           pop    gdpPercap\n",
       "country                                                  \n",
       "Afghanistan  1979.5  37.478833  1.582372e+07   802.674598\n",
       "Albania      1979.5  68.432917  2.580249e+06  3255.366633\n",
       "Algeria      1979.5  59.030167  1.987541e+07  4426.025973"
      ]
     },
     "execution_count": 5,
     "metadata": {},
     "output_type": "execute_result"
    }
   ],
   "source": [
    "df.head(3)"
   ]
  },
  {
   "cell_type": "code",
   "execution_count": 6,
   "metadata": {},
   "outputs": [
    {
     "data": {
      "text/html": [
       "<div>\n",
       "<style scoped>\n",
       "    .dataframe tbody tr th:only-of-type {\n",
       "        vertical-align: middle;\n",
       "    }\n",
       "\n",
       "    .dataframe tbody tr th {\n",
       "        vertical-align: top;\n",
       "    }\n",
       "\n",
       "    .dataframe thead th {\n",
       "        text-align: right;\n",
       "    }\n",
       "</style>\n",
       "<table border=\"1\" class=\"dataframe\">\n",
       "  <thead>\n",
       "    <tr style=\"text-align: right;\">\n",
       "      <th></th>\n",
       "      <th>year</th>\n",
       "      <th>lifeExp</th>\n",
       "      <th>pop</th>\n",
       "      <th>gdpPercap</th>\n",
       "    </tr>\n",
       "    <tr>\n",
       "      <th>country</th>\n",
       "      <th></th>\n",
       "      <th></th>\n",
       "      <th></th>\n",
       "      <th></th>\n",
       "    </tr>\n",
       "  </thead>\n",
       "  <tbody>\n",
       "    <tr>\n",
       "      <th>Afghanistan</th>\n",
       "      <td>1979.5</td>\n",
       "      <td>37.478833</td>\n",
       "      <td>1.582372e+07</td>\n",
       "      <td>802.674598</td>\n",
       "    </tr>\n",
       "    <tr>\n",
       "      <th>Albania</th>\n",
       "      <td>1979.5</td>\n",
       "      <td>68.432917</td>\n",
       "      <td>2.580249e+06</td>\n",
       "      <td>3255.366633</td>\n",
       "    </tr>\n",
       "    <tr>\n",
       "      <th>Algeria</th>\n",
       "      <td>1979.5</td>\n",
       "      <td>59.030167</td>\n",
       "      <td>1.987541e+07</td>\n",
       "      <td>4426.025973</td>\n",
       "    </tr>\n",
       "    <tr>\n",
       "      <th>Angola</th>\n",
       "      <td>1979.5</td>\n",
       "      <td>37.883500</td>\n",
       "      <td>7.309390e+06</td>\n",
       "      <td>3607.100529</td>\n",
       "    </tr>\n",
       "    <tr>\n",
       "      <th>Argentina</th>\n",
       "      <td>1979.5</td>\n",
       "      <td>69.060417</td>\n",
       "      <td>2.860224e+07</td>\n",
       "      <td>8955.553783</td>\n",
       "    </tr>\n",
       "  </tbody>\n",
       "</table>\n",
       "</div>"
      ],
      "text/plain": [
       "               year    lifeExp           pop    gdpPercap\n",
       "country                                                  \n",
       "Afghanistan  1979.5  37.478833  1.582372e+07   802.674598\n",
       "Albania      1979.5  68.432917  2.580249e+06  3255.366633\n",
       "Algeria      1979.5  59.030167  1.987541e+07  4426.025973\n",
       "Angola       1979.5  37.883500  7.309390e+06  3607.100529\n",
       "Argentina    1979.5  69.060417  2.860224e+07  8955.553783"
      ]
     },
     "execution_count": 6,
     "metadata": {},
     "output_type": "execute_result"
    }
   ],
   "source": [
    "df['pop'] = df['pop']\n",
    "df.head()"
   ]
  },
  {
   "cell_type": "code",
   "execution_count": 7,
   "metadata": {},
   "outputs": [
    {
     "data": {
      "text/plain": [
       "Index(['year', 'lifeExp', 'pop', 'gdpPercap'], dtype='object')"
      ]
     },
     "execution_count": 7,
     "metadata": {},
     "output_type": "execute_result"
    }
   ],
   "source": [
    "df.columns"
   ]
  },
  {
   "cell_type": "code",
   "execution_count": 8,
   "metadata": {},
   "outputs": [
    {
     "data": {
      "text/plain": [
       "[15823715.416666666,\n",
       " 2580249.1666666665,\n",
       " 19875406.166666668,\n",
       " 7309390.083333333,\n",
       " 28602239.916666668,\n",
       " 14649312.5,\n",
       " 7583298.416666667,\n",
       " 373913.1666666667,\n",
       " 90755395.33333333,\n",
       " 9725118.666666666]"
      ]
     },
     "execution_count": 8,
     "metadata": {},
     "output_type": "execute_result"
    }
   ],
   "source": [
    "pop = df['pop'].tolist()\n",
    "pop[:10]"
   ]
  },
  {
   "cell_type": "code",
   "execution_count": 9,
   "metadata": {},
   "outputs": [
    {
     "data": {
      "text/plain": [
       "[802.674598425,\n",
       " 3255.3666326666666,\n",
       " 4426.025973166667,\n",
       " 3607.100528833334,\n",
       " 8955.553782666668,\n",
       " 19980.595634166664,\n",
       " 20411.916279333334,\n",
       " 18077.663945416665,\n",
       " 817.5588182166666,\n",
       " 19900.758071666667]"
      ]
     },
     "execution_count": 9,
     "metadata": {},
     "output_type": "execute_result"
    }
   ],
   "source": [
    "gdp_cap = df['gdpPercap'].tolist()\n",
    "gdp_cap[:10]"
   ]
  },
  {
   "cell_type": "code",
   "execution_count": 10,
   "metadata": {},
   "outputs": [
    {
     "data": {
      "text/plain": [
       "[37.478833333333334,\n",
       " 68.43291666666669,\n",
       " 59.03016666666667,\n",
       " 37.883500000000005,\n",
       " 69.06041666666665,\n",
       " 74.66291666666667,\n",
       " 73.10324999999999,\n",
       " 65.60566666666666,\n",
       " 49.83408333333333,\n",
       " 73.64175]"
      ]
     },
     "execution_count": 10,
     "metadata": {},
     "output_type": "execute_result"
    }
   ],
   "source": [
    "life_exp = df['lifeExp'].tolist()\n",
    "life_exp[:10]"
   ]
  },
  {
   "cell_type": "code",
   "execution_count": 11,
   "metadata": {},
   "outputs": [
    {
     "data": {
      "text/plain": [
       "[1979.5,\n",
       " 1979.5,\n",
       " 1979.5,\n",
       " 1979.5,\n",
       " 1979.5,\n",
       " 1979.5,\n",
       " 1979.5,\n",
       " 1979.5,\n",
       " 1979.5,\n",
       " 1979.5]"
      ]
     },
     "execution_count": 11,
     "metadata": {},
     "output_type": "execute_result"
    }
   ],
   "source": [
    "year = df['year'].tolist()\n",
    "year[:10]"
   ]
  },
  {
   "cell_type": "code",
   "execution_count": 12,
   "metadata": {},
   "outputs": [],
   "source": [
    "#   Visualization"
   ]
  },
  {
   "cell_type": "code",
   "execution_count": 13,
   "metadata": {},
   "outputs": [
    {
     "data": {
      "image/png": "[encoded data removed]",
      "text/plain": [
       "<Figure size 432x288 with 1 Axes>"
      ]
     },
     "metadata": {
      "needs_background": "light"
     },
     "output_type": "display_data"
    }
   ],
   "source": [
    "# Create scatter plot\n",
    "plt.scatter(gdp_cap, life_exp)\n",
    "\n",
    "# Put the x-axis on a logarithmic scale\n",
    "plt.xscale('log')\n",
    "\n",
    "# Show plot\n",
    "plt.show()"
   ]
  },
  {
   "cell_type": "code",
   "execution_count": 14,
   "metadata": {},
   "outputs": [],
   "source": [
    "#You can see that the higher GDP usually corresponds to a higher life expectancy. In other words, there is a positive correlation.\n",
    "\n",
    "## But is there a relationship between population and life expectancy of a country?\n",
    "\n"
   ]
  },
  {
   "cell_type": "code",
   "execution_count": 15,
   "metadata": {},
   "outputs": [
    {
     "data": {
      "image/png": "[encoded data removed]",
      "text/plain": [
       "<Figure size 432x288 with 1 Axes>"
      ]
     },
     "metadata": {
      "needs_background": "light"
     },
     "output_type": "display_data"
    }
   ],
   "source": [
    "# Build Scatter plot\n",
    "plt.scatter(pop, life_exp)\n",
    "\n",
    "# Show plot\n",
    "plt.show()"
   ]
  },
  {
   "cell_type": "code",
   "execution_count": 16,
   "metadata": {},
   "outputs": [
    {
     "data": {
      "image/png": "[encoded data removed]",
      "text/plain": [
       "<Figure size 432x288 with 1 Axes>"
      ]
     },
     "metadata": {
      "needs_background": "light"
     },
     "output_type": "display_data"
    }
   ],
   "source": [
    "# Basic scatter plot, log scale\n",
    "plt.scatter(gdp_cap, life_exp)\n",
    "plt.xscale('log') \n",
    "\n",
    "# Strings\n",
    "xlab = 'GDP per Capita [in USD]'\n",
    "ylab = 'Life Expectancy [in years]'\n",
    "title = 'World Development in 2007'\n",
    "\n",
    "# Add axis labels\n",
    "plt.xlabel(xlab)\n",
    "plt.ylabel(ylab)\n",
    "\n",
    "# Add title\n",
    "plt.title(title)\n",
    "\n",
    "# After customizing, display the plot\n",
    "plt.show()"
   ]
  },
  {
   "cell_type": "code",
   "execution_count": null,
   "metadata": {},
   "outputs": [],
   "source": []
  },
  {
   "cell_type": "code",
   "execution_count": 17,
   "metadata": {},
   "outputs": [
    {
     "data": {
      "image/png": "[encoded data removed]",
      "text/plain": [
       "<Figure size 720x576 with 1 Axes>"
      ]
     },
     "metadata": {
      "needs_background": "light"
     },
     "output_type": "display_data"
    }
   ],
   "source": [
    "# Scatter plot\n",
    "\n",
    "plt.scatter(gdp_cap, life_exp)\n",
    "\n",
    "# Labels\n",
    "plt.xscale('log') \n",
    "plt.xlabel('GDP per Capita [in USD]')\n",
    "plt.ylabel('Life Expectancy [in years]')\n",
    "plt.title('World GDP VS Life Expectancy ')\n",
    "\n",
    "# Definition of tick_val and tick_lab\n",
    "tick_val = [1000,10000,100000]\n",
    "tick_lab = ['1k','10k','100k']\n",
    "\n",
    "# Additional customizations to highlight China and India.\n",
    "plt.text(2120, 65, 'India')\n",
    "plt.text(4200, 74, 'China')\n",
    "\n",
    "# Adapt the ticks on the x-axis\n",
    "plt.xticks(tick_val, tick_lab)\n",
    "\n",
    "#Add grid() call\n",
    "plt.grid(True)\n",
    "\n",
    "fig = plt.gcf()\n",
    "fig.set_size_inches(10, 8)\n",
    "\n",
    "\n",
    "# After customizing, display the plot\n",
    "plt.show()"
   ]
  },
  {
   "cell_type": "code",
   "execution_count": null,
   "metadata": {},
   "outputs": [],
   "source": []
  },
  {
   "cell_type": "code",
   "execution_count": 18,
   "metadata": {},
   "outputs": [],
   "source": [
    "# customize the scatter plot to be more self explanatory \n",
    "\n",
    "# Store pop as a numpy array: np_pop\n",
    "np_pop = np.array(pop)\n",
    "\n",
    "# Double np_pop\n",
    "np_pop = np_pop * 2\n",
    "\n"
   ]
  },
  {
   "cell_type": "code",
   "execution_count": 19,
   "metadata": {},
   "outputs": [],
   "source": [
    "df = df_raw"
   ]
  },
  {
   "cell_type": "code",
   "execution_count": 20,
   "metadata": {},
   "outputs": [
    {
     "name": "stdout",
     "output_type": "stream",
     "text": [
      "0    False\n",
      "1    False\n",
      "2    False\n",
      "3    False\n",
      "4    False\n",
      "Name: year, dtype: bool\n"
     ]
    }
   ],
   "source": [
    "is_2007 =  df['year']==2007\n",
    "print(is_2007.head())"
   ]
  },
  {
   "cell_type": "code",
   "execution_count": 21,
   "metadata": {},
   "outputs": [
    {
     "name": "stdout",
     "output_type": "stream",
     "text": [
      "(142, 6)\n"
     ]
    }
   ],
   "source": [
    "df_2007 = df[is_2007]\n",
    "print(df_2007.shape)"
   ]
  },
  {
   "cell_type": "code",
   "execution_count": 22,
   "metadata": {},
   "outputs": [
    {
     "name": "stdout",
     "output_type": "stream",
     "text": [
      "        country continent  year  lifeExp       pop     gdpPercap\n",
      "11  Afghanistan      Asia  2007   43.828  31889923    974.580338\n",
      "23      Albania    Europe  2007   76.423   3600523   5937.029526\n",
      "35      Algeria    Africa  2007   72.301  33333216   6223.367465\n",
      "47       Angola    Africa  2007   42.731  12420476   4797.231267\n",
      "59    Argentina  Americas  2007   75.320  40301927  12779.379640\n"
     ]
    }
   ],
   "source": [
    "print(df_2007.head())"
   ]
  },
  {
   "cell_type": "code",
   "execution_count": null,
   "metadata": {},
   "outputs": [],
   "source": []
  },
  {
   "cell_type": "code",
   "execution_count": 23,
   "metadata": {},
   "outputs": [],
   "source": [
    "pop_2007 = df_2007['pop'].tolist()\n",
    "gdpPercap = df_2007['gdpPercap'].tolist()\n",
    "lifeExp = df_2007['lifeExp'].tolist()\n",
    "year_2007 = df_2007['year'].tolist()\n",
    "\n"
   ]
  },
  {
   "cell_type": "code",
   "execution_count": 24,
   "metadata": {},
   "outputs": [
    {
     "data": {
      "text/plain": [
       "[31889923,\n",
       " 3600523,\n",
       " 33333216,\n",
       " 12420476,\n",
       " 40301927,\n",
       " 20434176,\n",
       " 8199783,\n",
       " 708573,\n",
       " 150448339,\n",
       " 10392226]"
      ]
     },
     "execution_count": 24,
     "metadata": {},
     "output_type": "execute_result"
    }
   ],
   "source": [
    "pop = df_2007['pop'].tolist()\n",
    "pop[: 10]"
   ]
  },
  {
   "cell_type": "code",
   "execution_count": 25,
   "metadata": {},
   "outputs": [],
   "source": [
    "# Create function that maps a country's continent to a color\n",
    "def color_map(c):\n",
    " if c['continent'] == 'Asia':\n",
    "  return 'red'\n",
    " elif c['continent'] == 'Europe':\n",
    "  return 'green'\n",
    " elif c['continent'] == 'Africa':\n",
    "  return 'blue'\n",
    " elif c['continent'] == 'Americas':\n",
    "  return 'yellow'\n",
    " else:\n",
    "  return 'black'"
   ]
  },
  {
   "cell_type": "code",
   "execution_count": 26,
   "metadata": {},
   "outputs": [
    {
     "name": "stderr",
     "output_type": "stream",
     "text": [
      "C:\\Users\\ofunk\\Anaconda3\\lib\\site-packages\\ipykernel_launcher.py:1: SettingWithCopyWarning: \n",
      "A value is trying to be set on a copy of a slice from a DataFrame.\n",
      "Try using .loc[row_indexer,col_indexer] = value instead\n",
      "\n",
      "See the caveats in the documentation: http://pandas.pydata.org/pandas-docs/stable/indexing.html#indexing-view-versus-copy\n",
      "  \"\"\"Entry point for launching an IPython kernel.\n"
     ]
    },
    {
     "data": {
      "text/html": [
       "<div>\n",
       "<style scoped>\n",
       "    .dataframe tbody tr th:only-of-type {\n",
       "        vertical-align: middle;\n",
       "    }\n",
       "\n",
       "    .dataframe tbody tr th {\n",
       "        vertical-align: top;\n",
       "    }\n",
       "\n",
       "    .dataframe thead th {\n",
       "        text-align: right;\n",
       "    }\n",
       "</style>\n",
       "<table border=\"1\" class=\"dataframe\">\n",
       "  <thead>\n",
       "    <tr style=\"text-align: right;\">\n",
       "      <th></th>\n",
       "      <th>country</th>\n",
       "      <th>continent</th>\n",
       "      <th>year</th>\n",
       "      <th>lifeExp</th>\n",
       "      <th>pop</th>\n",
       "      <th>gdpPercap</th>\n",
       "    </tr>\n",
       "  </thead>\n",
       "  <tbody>\n",
       "    <tr>\n",
       "      <th>0</th>\n",
       "      <td>Afghanistan</td>\n",
       "      <td>Asia</td>\n",
       "      <td>1952</td>\n",
       "      <td>28.801</td>\n",
       "      <td>8425333</td>\n",
       "      <td>779.445314</td>\n",
       "    </tr>\n",
       "    <tr>\n",
       "      <th>1</th>\n",
       "      <td>Afghanistan</td>\n",
       "      <td>Asia</td>\n",
       "      <td>1957</td>\n",
       "      <td>30.332</td>\n",
       "      <td>9240934</td>\n",
       "      <td>820.853030</td>\n",
       "    </tr>\n",
       "    <tr>\n",
       "      <th>2</th>\n",
       "      <td>Afghanistan</td>\n",
       "      <td>Asia</td>\n",
       "      <td>1962</td>\n",
       "      <td>31.997</td>\n",
       "      <td>10267083</td>\n",
       "      <td>853.100710</td>\n",
       "    </tr>\n",
       "    <tr>\n",
       "      <th>3</th>\n",
       "      <td>Afghanistan</td>\n",
       "      <td>Asia</td>\n",
       "      <td>1967</td>\n",
       "      <td>34.020</td>\n",
       "      <td>11537966</td>\n",
       "      <td>836.197138</td>\n",
       "    </tr>\n",
       "    <tr>\n",
       "      <th>4</th>\n",
       "      <td>Afghanistan</td>\n",
       "      <td>Asia</td>\n",
       "      <td>1972</td>\n",
       "      <td>36.088</td>\n",
       "      <td>13079460</td>\n",
       "      <td>739.981106</td>\n",
       "    </tr>\n",
       "  </tbody>\n",
       "</table>\n",
       "</div>"
      ],
      "text/plain": [
       "       country continent  year  lifeExp       pop   gdpPercap\n",
       "0  Afghanistan      Asia  1952   28.801   8425333  779.445314\n",
       "1  Afghanistan      Asia  1957   30.332   9240934  820.853030\n",
       "2  Afghanistan      Asia  1962   31.997  10267083  853.100710\n",
       "3  Afghanistan      Asia  1967   34.020  11537966  836.197138\n",
       "4  Afghanistan      Asia  1972   36.088  13079460  739.981106"
      ]
     },
     "execution_count": 26,
     "metadata": {},
     "output_type": "execute_result"
    }
   ],
   "source": [
    "df_2007['color'] = df_2007.apply(color_map, axis=1)\n",
    "df.head()"
   ]
  },
  {
   "cell_type": "code",
   "execution_count": 27,
   "metadata": {},
   "outputs": [],
   "source": [
    "col = df_2007['color']\n"
   ]
  },
  {
   "cell_type": "code",
   "execution_count": null,
   "metadata": {},
   "outputs": [],
   "source": []
  },
  {
   "cell_type": "code",
   "execution_count": 28,
   "metadata": {},
   "outputs": [
    {
     "data": {
      "image/png": "[encoded data removed]",
      "text/plain": [
       "<Figure size 432x288 with 1 Axes>"
      ]
     },
     "metadata": {
      "needs_background": "light"
     },
     "output_type": "display_data"
    }
   ],
   "source": [
    "# Specify c and alpha inside plt.scatter()\n",
    "plt.scatter(x = gdpPercap, y = lifeExp, c = col, alpha = 0.8)\n",
    "\n",
    "# Labels\n",
    "plt.xscale('log') \n",
    "plt.xlabel('GDP per Capita [in USD]')\n",
    "plt.ylabel('Life Expectancy [in years]')\n",
    "plt.title('World Development in 2007')\n",
    "\n",
    "# Legend\n",
    "blue_patch = mpatches.Patch(color='blue', label='Africa')\n",
    "yellow_patch = mpatches.Patch(color='yellow', label='Americas')\n",
    "red_patch = mpatches.Patch(color='red', label='Asia')\n",
    "green_patch = mpatches.Patch(color='green', label='Europe')\n",
    "black_patch = mpatches.Patch(color='black', label='Oceania')\n",
    "plt.legend(handles=[blue_patch, yellow_patch, red_patch, green_patch, black_patch])\n",
    "\n",
    "# Definition of tick_val and tick_lab\n",
    "plt.xticks([1000,10000,100000], ['1k','10k','100k'])\n",
    "\n",
    "# Show the plot\n",
    "plt.show()"
   ]
  },
  {
   "cell_type": "code",
   "execution_count": 29,
   "metadata": {},
   "outputs": [],
   "source": [
    "# Store pop as a numpy array: np_pop\n",
    "np_pop = np.array(pop)\n",
    "\n",
    "# Double np_pop\n",
    "np_pop = np_pop * 2"
   ]
  },
  {
   "cell_type": "code",
   "execution_count": 30,
   "metadata": {},
   "outputs": [
    {
     "data": {
      "image/png": "[encoded data removed]",
      "text/plain": [
       "<Figure size 720x576 with 1 Axes>"
      ]
     },
     "metadata": {
      "needs_background": "light"
     },
     "output_type": "display_data"
    }
   ],
   "source": [
    "# Scatter plot\n",
    "plt.scatter(x = gdpPercap, y = lifeExp,   c = col, alpha = 0.8)\n",
    "\n",
    "# Labels\n",
    "plt.xscale('log') \n",
    "plt.xlabel('GDP per Capita [in USD]')\n",
    "plt.ylabel('Life Expectancy [in years]')\n",
    "plt.title('Overview World Development in 1952 - 2007')\n",
    "\n",
    "# Definition of tick_val and tick_lab\n",
    "plt.xticks([1000,10000,100000], ['1k','10k','100k'])\n",
    "\n",
    "# Legend\n",
    "blue_patch = mpatches.Patch(color='blue', label='Africa')\n",
    "yellow_patch = mpatches.Patch(color='yellow', label='Americas')\n",
    "red_patch = mpatches.Patch(color='red', label='Asia')\n",
    "green_patch = mpatches.Patch(color='green', label='Europe')\n",
    "black_patch = mpatches.Patch(color='black', label='Oceania')\n",
    "plt.legend(handles=[blue_patch, yellow_patch, red_patch, green_patch, black_patch])\n",
    "\n",
    "# Additional customizations to highlight China and India.\n",
    "plt.text(2120, 65, 'India')\n",
    "plt.text(4200, 74, 'China')\n",
    "\n",
    "#Add grid() call\n",
    "plt.grid(True)\n",
    "\n",
    "fig = plt.gcf()\n",
    "fig.set_size_inches(10, 8)\n",
    "\n",
    "# Save the plot\n",
    "plt.savefig('Overview_World_Development_in_1952 _-_2007.png')\n",
    "\n",
    "# Show the plot\n",
    "plt.show()"
   ]
  },
  {
   "cell_type": "code",
   "execution_count": 31,
   "metadata": {},
   "outputs": [
    {
     "data": {
      "text/html": [
       "<div>\n",
       "<style scoped>\n",
       "    .dataframe tbody tr th:only-of-type {\n",
       "        vertical-align: middle;\n",
       "    }\n",
       "\n",
       "    .dataframe tbody tr th {\n",
       "        vertical-align: top;\n",
       "    }\n",
       "\n",
       "    .dataframe thead th {\n",
       "        text-align: right;\n",
       "    }\n",
       "</style>\n",
       "<table border=\"1\" class=\"dataframe\">\n",
       "  <thead>\n",
       "    <tr style=\"text-align: right;\">\n",
       "      <th></th>\n",
       "      <th>year</th>\n",
       "      <th>lifeExp</th>\n",
       "      <th>pop</th>\n",
       "      <th>gdpPercap</th>\n",
       "    </tr>\n",
       "    <tr>\n",
       "      <th>continent</th>\n",
       "      <th></th>\n",
       "      <th></th>\n",
       "      <th></th>\n",
       "      <th></th>\n",
       "    </tr>\n",
       "  </thead>\n",
       "  <tbody>\n",
       "    <tr>\n",
       "      <th>Africa</th>\n",
       "      <td>2007.0</td>\n",
       "      <td>54.806038</td>\n",
       "      <td>1.787576e+07</td>\n",
       "      <td>3089.032605</td>\n",
       "    </tr>\n",
       "    <tr>\n",
       "      <th>Americas</th>\n",
       "      <td>2007.0</td>\n",
       "      <td>73.608120</td>\n",
       "      <td>3.595485e+07</td>\n",
       "      <td>11003.031625</td>\n",
       "    </tr>\n",
       "    <tr>\n",
       "      <th>Asia</th>\n",
       "      <td>2007.0</td>\n",
       "      <td>70.728485</td>\n",
       "      <td>1.155138e+08</td>\n",
       "      <td>12473.026870</td>\n",
       "    </tr>\n",
       "    <tr>\n",
       "      <th>Europe</th>\n",
       "      <td>2007.0</td>\n",
       "      <td>77.648600</td>\n",
       "      <td>1.953662e+07</td>\n",
       "      <td>25054.481636</td>\n",
       "    </tr>\n",
       "    <tr>\n",
       "      <th>Oceania</th>\n",
       "      <td>2007.0</td>\n",
       "      <td>80.719500</td>\n",
       "      <td>1.227497e+07</td>\n",
       "      <td>29810.188275</td>\n",
       "    </tr>\n",
       "  </tbody>\n",
       "</table>\n",
       "</div>"
      ],
      "text/plain": [
       "             year    lifeExp           pop     gdpPercap\n",
       "continent                                               \n",
       "Africa     2007.0  54.806038  1.787576e+07   3089.032605\n",
       "Americas   2007.0  73.608120  3.595485e+07  11003.031625\n",
       "Asia       2007.0  70.728485  1.155138e+08  12473.026870\n",
       "Europe     2007.0  77.648600  1.953662e+07  25054.481636\n",
       "Oceania    2007.0  80.719500  1.227497e+07  29810.188275"
      ]
     },
     "execution_count": 31,
     "metadata": {},
     "output_type": "execute_result"
    }
   ],
   "source": [
    "df_2007_group = df[is_2007].groupby(['continent']).mean()\n",
    "df_2007_group.head()"
   ]
  },
  {
   "cell_type": "code",
   "execution_count": 32,
   "metadata": {},
   "outputs": [
    {
     "data": {
      "text/html": [
       "<div>\n",
       "<style scoped>\n",
       "    .dataframe tbody tr th:only-of-type {\n",
       "        vertical-align: middle;\n",
       "    }\n",
       "\n",
       "    .dataframe tbody tr th {\n",
       "        vertical-align: top;\n",
       "    }\n",
       "\n",
       "    .dataframe thead th {\n",
       "        text-align: right;\n",
       "    }\n",
       "</style>\n",
       "<table border=\"1\" class=\"dataframe\">\n",
       "  <thead>\n",
       "    <tr style=\"text-align: right;\">\n",
       "      <th></th>\n",
       "      <th>country</th>\n",
       "      <th>continent</th>\n",
       "      <th>year</th>\n",
       "      <th>lifeExp</th>\n",
       "      <th>pop</th>\n",
       "      <th>gdpPercap</th>\n",
       "    </tr>\n",
       "  </thead>\n",
       "  <tbody>\n",
       "    <tr>\n",
       "      <th>1694</th>\n",
       "      <td>Zimbabwe</td>\n",
       "      <td>Africa</td>\n",
       "      <td>1962</td>\n",
       "      <td>52.358</td>\n",
       "      <td>4277736</td>\n",
       "      <td>527.272182</td>\n",
       "    </tr>\n",
       "    <tr>\n",
       "      <th>1695</th>\n",
       "      <td>Zimbabwe</td>\n",
       "      <td>Africa</td>\n",
       "      <td>1967</td>\n",
       "      <td>53.995</td>\n",
       "      <td>4995432</td>\n",
       "      <td>569.795071</td>\n",
       "    </tr>\n",
       "    <tr>\n",
       "      <th>1696</th>\n",
       "      <td>Zimbabwe</td>\n",
       "      <td>Africa</td>\n",
       "      <td>1972</td>\n",
       "      <td>55.635</td>\n",
       "      <td>5861135</td>\n",
       "      <td>799.362176</td>\n",
       "    </tr>\n",
       "    <tr>\n",
       "      <th>1697</th>\n",
       "      <td>Zimbabwe</td>\n",
       "      <td>Africa</td>\n",
       "      <td>1977</td>\n",
       "      <td>57.674</td>\n",
       "      <td>6642107</td>\n",
       "      <td>685.587682</td>\n",
       "    </tr>\n",
       "    <tr>\n",
       "      <th>1698</th>\n",
       "      <td>Zimbabwe</td>\n",
       "      <td>Africa</td>\n",
       "      <td>1982</td>\n",
       "      <td>60.363</td>\n",
       "      <td>7636524</td>\n",
       "      <td>788.855041</td>\n",
       "    </tr>\n",
       "    <tr>\n",
       "      <th>1699</th>\n",
       "      <td>Zimbabwe</td>\n",
       "      <td>Africa</td>\n",
       "      <td>1987</td>\n",
       "      <td>62.351</td>\n",
       "      <td>9216418</td>\n",
       "      <td>706.157306</td>\n",
       "    </tr>\n",
       "    <tr>\n",
       "      <th>1700</th>\n",
       "      <td>Zimbabwe</td>\n",
       "      <td>Africa</td>\n",
       "      <td>1992</td>\n",
       "      <td>60.377</td>\n",
       "      <td>10704340</td>\n",
       "      <td>693.420786</td>\n",
       "    </tr>\n",
       "    <tr>\n",
       "      <th>1701</th>\n",
       "      <td>Zimbabwe</td>\n",
       "      <td>Africa</td>\n",
       "      <td>1997</td>\n",
       "      <td>46.809</td>\n",
       "      <td>11404948</td>\n",
       "      <td>792.449960</td>\n",
       "    </tr>\n",
       "    <tr>\n",
       "      <th>1702</th>\n",
       "      <td>Zimbabwe</td>\n",
       "      <td>Africa</td>\n",
       "      <td>2002</td>\n",
       "      <td>39.989</td>\n",
       "      <td>11926563</td>\n",
       "      <td>672.038623</td>\n",
       "    </tr>\n",
       "    <tr>\n",
       "      <th>1703</th>\n",
       "      <td>Zimbabwe</td>\n",
       "      <td>Africa</td>\n",
       "      <td>2007</td>\n",
       "      <td>43.487</td>\n",
       "      <td>12311143</td>\n",
       "      <td>469.709298</td>\n",
       "    </tr>\n",
       "  </tbody>\n",
       "</table>\n",
       "</div>"
      ],
      "text/plain": [
       "       country continent  year  lifeExp       pop   gdpPercap\n",
       "1694  Zimbabwe    Africa  1962   52.358   4277736  527.272182\n",
       "1695  Zimbabwe    Africa  1967   53.995   4995432  569.795071\n",
       "1696  Zimbabwe    Africa  1972   55.635   5861135  799.362176\n",
       "1697  Zimbabwe    Africa  1977   57.674   6642107  685.587682\n",
       "1698  Zimbabwe    Africa  1982   60.363   7636524  788.855041\n",
       "1699  Zimbabwe    Africa  1987   62.351   9216418  706.157306\n",
       "1700  Zimbabwe    Africa  1992   60.377  10704340  693.420786\n",
       "1701  Zimbabwe    Africa  1997   46.809  11404948  792.449960\n",
       "1702  Zimbabwe    Africa  2002   39.989  11926563  672.038623\n",
       "1703  Zimbabwe    Africa  2007   43.487  12311143  469.709298"
      ]
     },
     "execution_count": 32,
     "metadata": {},
     "output_type": "execute_result"
    }
   ],
   "source": [
    "data= df_raw\n",
    "data.tail(10)"
   ]
  },
  {
   "cell_type": "code",
   "execution_count": 33,
   "metadata": {},
   "outputs": [],
   "source": [
    "# Assign variable\n",
    "China = data[data.country == 'China']"
   ]
  },
  {
   "cell_type": "code",
   "execution_count": 34,
   "metadata": {},
   "outputs": [
    {
     "ename": "NameError",
     "evalue": "name 'china' is not defined",
     "output_type": "error",
     "traceback": [
      "\u001b[1;31m---------------------------------------------------------------------------\u001b[0m",
      "\u001b[1;31mNameError\u001b[0m                                 Traceback (most recent call last)",
      "\u001b[1;32m<ipython-input-34-32ce32651d9a>\u001b[0m in \u001b[0;36m<module>\u001b[1;34m\u001b[0m\n\u001b[0;32m      1\u001b[0m \u001b[1;31m# Plot GDP per Capita of China\u001b[0m\u001b[1;33m\u001b[0m\u001b[1;33m\u001b[0m\u001b[1;33m\u001b[0m\u001b[0m\n\u001b[1;32m----> 2\u001b[1;33m \u001b[0mplt\u001b[0m\u001b[1;33m.\u001b[0m\u001b[0mplot\u001b[0m\u001b[1;33m(\u001b[0m\u001b[0mChina\u001b[0m\u001b[1;33m.\u001b[0m\u001b[0myear\u001b[0m\u001b[1;33m,\u001b[0m \u001b[0mchina\u001b[0m\u001b[1;33m.\u001b[0m\u001b[0mgdpPercap\u001b[0m\u001b[1;33m)\u001b[0m\u001b[1;33m\u001b[0m\u001b[1;33m\u001b[0m\u001b[0m\n\u001b[0m\u001b[0;32m      3\u001b[0m \u001b[0mplt\u001b[0m\u001b[1;33m.\u001b[0m\u001b[0mtitle\u001b[0m\u001b[1;33m(\u001b[0m\u001b[1;34m'GDP per Capita of China'\u001b[0m\u001b[1;33m)\u001b[0m\u001b[1;33m\u001b[0m\u001b[1;33m\u001b[0m\u001b[0m\n\u001b[0;32m      4\u001b[0m \u001b[1;31m#Add grid() call\u001b[0m\u001b[1;33m\u001b[0m\u001b[1;33m\u001b[0m\u001b[1;33m\u001b[0m\u001b[0m\n\u001b[0;32m      5\u001b[0m \u001b[0mplt\u001b[0m\u001b[1;33m.\u001b[0m\u001b[0mgrid\u001b[0m\u001b[1;33m(\u001b[0m\u001b[1;32mTrue\u001b[0m\u001b[1;33m)\u001b[0m\u001b[1;33m\u001b[0m\u001b[1;33m\u001b[0m\u001b[0m\n",
      "\u001b[1;31mNameError\u001b[0m: name 'china' is not defined"
     ]
    }
   ],
   "source": [
    "# Plot GDP per Capita of China\n",
    "plt.plot(China.year, china.gdpPercap)\n",
    "plt.title('GDP per Capita of China')\n",
    "#Add grid() call\n",
    "plt.grid(True)\n",
    "\n",
    "fig1 = plt.gcf()\n",
    "fig1.set_size_inches(10, 8)\n",
    "\n",
    "# Save the plot\n",
    "plt.savefig('GDP_vs_Life_Expectancy_China.png')\n",
    "\n",
    "plt.show()"
   ]
  },
  {
   "cell_type": "code",
   "execution_count": null,
   "metadata": {},
   "outputs": [],
   "source": [
    "# Plot GDP per Capita in United States\n",
    "\n",
    "us = data[data.country == 'United States']\n",
    "plt.plot(us.year, us.gdpPercap)\n",
    "plt.title('GDP per Capita of United States')\n",
    "#Add grid() call\n",
    "plt.grid(True)\n",
    "\n",
    "fig2 = plt.gcf()\n",
    "fig2.set_size_inches(10, 8)\n",
    "\n",
    "# Save the plot\n",
    "plt.savefig('GDP_per_Capita_of_United_States.png')\n",
    "\n",
    "plt.show()"
   ]
  },
  {
   "cell_type": "code",
   "execution_count": null,
   "metadata": {},
   "outputs": [],
   "source": [
    "# Plot Life expectancy in United States\n",
    "\n",
    "us = data[data.country == 'United States']\n",
    "plt.plot(us.year, us.lifeExp)\n",
    "plt.title('Life expectancy in United States')\n",
    "\n",
    "# Add grid() call\n",
    "plt.grid(True)\n",
    "\n",
    "fig3 = plt.gcf()\n",
    "fig3.set_size_inches(10, 8)\n",
    "\n",
    "# Save the plot\n",
    "plt.savefig('GDP_vs_Life_Expectancy_US.png')\n",
    "\n",
    "plt.show()"
   ]
  },
  {
   "cell_type": "code",
   "execution_count": null,
   "metadata": {},
   "outputs": [],
   "source": [
    "# Plot Life expectancy in China\n",
    "China = data[data.country == 'China']\n",
    "plt.plot(China.year, China.lifeExp)\n",
    "plt.title('Life expectancy in China')\n",
    "\n",
    "# Add grid() call\n",
    "plt.grid(True)\n",
    "\n",
    "fig4 = plt.gcf()\n",
    "fig4.set_size_inches(10, 8)\n",
    "\n",
    "# Save the plot\n",
    "plt.savefig('Life_Expectancy_China.png')\n",
    "\n",
    "plt.show()"
   ]
  },
  {
   "cell_type": "code",
   "execution_count": null,
   "metadata": {},
   "outputs": [],
   "source": [
    "## Display a time series with line charts"
   ]
  },
  {
   "cell_type": "code",
   "execution_count": null,
   "metadata": {},
   "outputs": [],
   "source": [
    "# Assign variables\n",
    "us = data[data.country == 'United States']\n",
    "china = data[data.country == 'China']"
   ]
  },
  {
   "cell_type": "code",
   "execution_count": null,
   "metadata": {},
   "outputs": [],
   "source": [
    "# GDP per capita in China vs  United States\n",
    "plt.plot(us.year, us.gdpPercap)\n",
    "plt.plot(china.year, china.gdpPercap)\n",
    "plt.legend(['United States', 'China'])\n",
    "plt.xlabel('year')\n",
    "plt.ylabel('GDP per capita [in years]')\n",
    "\n",
    "plt.title('GDP in China vs  United States')\n",
    "#Add grid() call\n",
    "plt.grid(True)\n",
    "\n",
    "fig5 = plt.gcf()\n",
    "fig5.set_size_inches(10, 8)\n",
    "\n",
    "# Save the plot\n",
    "plt.savefig('GDP_in_China _vs_United_States.png')\n",
    "\n",
    "plt.show()"
   ]
  },
  {
   "cell_type": "code",
   "execution_count": null,
   "metadata": {},
   "outputs": [],
   "source": [
    "plt.plot(us.year, us.lifeExp)\n",
    "plt.plot(china.year, china.lifeExp)\n",
    "plt.legend(['United States', 'China'])\n",
    "plt.xlabel('year')\n",
    "plt.ylabel('Life expectancy ')\n",
    "plt.title('Life Expectancy in China vs United States')\n",
    "\n",
    "# Add grid() call\n",
    "plt.grid(True)\n",
    "\n",
    "fig6 = plt.gcf()\n",
    "fig6.set_size_inches(10, 8)\n",
    "\n",
    "# Save the plot\n",
    "plt.savefig('Life_Expectancy_in_China_vs_United_States.png')\n",
    "\n",
    "plt.show()"
   ]
  },
  {
   "cell_type": "code",
   "execution_count": null,
   "metadata": {},
   "outputs": [],
   "source": [
    "# Plot Life expectancy of China and US\n",
    "\n",
    "plt.plot(us.year, us.lifeExp)\n",
    "\n",
    "plt.plot(china.year, china.lifeExp)\n",
    "\n",
    "plt.legend(['United States', 'china'])\n",
    "plt.xlabel('year')\n",
    "plt.ylabel('Life expectancy [in years]')\n",
    "\n",
    "#Add grid() call\n",
    "plt.grid(True)\n",
    "\n",
    "fig7 = plt.gcf()\n",
    "fig7.set_size_inches(10, 8)\n",
    "\n",
    "# Save the plot\n",
    "plt.savefig('Life_Expectancy_China_US.png')\n",
    "\n",
    "plt.show()"
   ]
  },
  {
   "cell_type": "code",
   "execution_count": null,
   "metadata": {},
   "outputs": [],
   "source": [
    "##Find Distribution of Data using Histograms¶\n",
    "set(data.continent)"
   ]
  },
  {
   "cell_type": "code",
   "execution_count": null,
   "metadata": {},
   "outputs": [],
   "source": [
    "# Assign variables \n",
    "data2007 = data[data.year == 2007]\n",
    "asia2007 = data2007[data2007.continent == 'Asia']\n",
    "europe2007 = data2007[data2007.continent == 'Europe']"
   ]
  },
  {
   "cell_type": "code",
   "execution_count": null,
   "metadata": {},
   "outputs": [],
   "source": [
    "len(set(asia2007.country))\n"
   ]
  },
  {
   "cell_type": "code",
   "execution_count": null,
   "metadata": {},
   "outputs": [],
   "source": [
    "len(set(europe2007.country))"
   ]
  },
  {
   "cell_type": "code",
   "execution_count": null,
   "metadata": {},
   "outputs": [],
   "source": [
    "asia2007.gdpPercap.mean()"
   ]
  },
  {
   "cell_type": "code",
   "execution_count": null,
   "metadata": {},
   "outputs": [],
   "source": [
    "\n",
    "europe2007.gdpPercap.mean()"
   ]
  },
  {
   "cell_type": "code",
   "execution_count": null,
   "metadata": {},
   "outputs": [],
   "source": [
    "\n",
    "asia2007.gdpPercap.median()"
   ]
  },
  {
   "cell_type": "code",
   "execution_count": null,
   "metadata": {},
   "outputs": [],
   "source": [
    "\n",
    "europe2007.gdpPercap.median()"
   ]
  },
  {
   "cell_type": "code",
   "execution_count": null,
   "metadata": {},
   "outputs": [],
   "source": [
    "#Comparing GDP of EU and Asia in 2007\n",
    "\n",
    "plt.subplot(211)\n",
    "plt.title('Comparing GDP of EU and Asia in 2007')\n",
    "plt.hist(asia2007.gdpPercap, 30, edgecolor='black')\n",
    "plt.ylabel('Asia')\n",
    "plt.subplot(212)\n",
    "plt.hist(europe2007.gdpPercap, 30, edgecolor='black')\n",
    "plt.ylabel('Europe')\n",
    "#Add grid() call\n",
    "plt.grid(True)\n",
    "\n",
    "fig8 = plt.gcf()\n",
    "fig8.set_size_inches(10, 8)\n",
    "\n",
    "# Save the plot\n",
    "plt.savefig('Comparing_GDP_of_EU_and_Asia_in_2007.png')\n",
    "\n",
    "plt.show()"
   ]
  },
  {
   "cell_type": "code",
   "execution_count": null,
   "metadata": {},
   "outputs": [],
   "source": [
    "# Top 10 countries with highest population\n",
    "\n",
    "top10 = data2007.sort_values('pop', ascending=False).head(10)\n",
    "top10"
   ]
  },
  {
   "cell_type": "code",
   "execution_count": null,
   "metadata": {},
   "outputs": [],
   "source": []
  },
  {
   "cell_type": "code",
   "execution_count": null,
   "metadata": {},
   "outputs": [],
   "source": [
    "# Plot the scatterplot for GDP per capita and life expectancy in 2007\n",
    "\n",
    "plt.scatter(data2007.gdpPercap, data2007.lifeExp)\n",
    "plt.title('GDP per capita and life Expectancy in 2007')\n",
    "plt.xlabel('GDP per capita [in USD]')\n",
    "plt.ylabel('Life expectancy [in years]')\n",
    "\n",
    "# Add grid() call\n",
    "plt.grid(True)\n",
    "\n",
    "fig9 = plt.gcf()\n",
    "fig9.set_size_inches(10, 8)\n",
    "\n",
    "# Save the plot\n",
    "plt.savefig('GDP_per_capita_and_life_Expectancy_in_2007.png')\n",
    "\n",
    "plt.show()"
   ]
  },
  {
   "cell_type": "code",
   "execution_count": null,
   "metadata": {},
   "outputs": [],
   "source": [
    "# Sort data by year\n",
    "yearsSorted = sorted(set(data.year))"
   ]
  },
  {
   "cell_type": "code",
   "execution_count": null,
   "metadata": {},
   "outputs": [],
   "source": [
    "# Plot scatter plots of GDP and life expectancy for every 5 years interval\n",
    "\n",
    "for aYear in yearsSorted:\n",
    "    dataYear = data[data.year == aYear]\n",
    "    plt.scatter(dataYear.gdpPercap, dataYear.lifeExp, 5)\n",
    "    plt.title(aYear)\n",
    "    plt.xlim(0,60000)\n",
    "    plt.ylim(25, 85)\n",
    "    plt.xlabel('GDP per capita [in USD]')\n",
    "    plt.ylabel('Life expectancy [in years]')\n",
    "    plt.show()\n",
    "\n",
    "# Add grid() call\n",
    "plt.grid(True)\n",
    "\n",
    "fig11 = plt.gcf()\n",
    "fig11.set_size_inches(10, 8)\n",
    "\n",
    "# Save the plot\n",
    "plt.savefig('GDP_per_capita_and_Life_Expectancy.png')\n"
   ]
  },
  {
   "cell_type": "code",
   "execution_count": null,
   "metadata": {},
   "outputs": [],
   "source": [
    "# Group by continent\n",
    "\n",
    "dfcontinent = df_raw.groupby(['continent']).median().head(5)\n",
    "dfcontinent"
   ]
  },
  {
   "cell_type": "code",
   "execution_count": null,
   "metadata": {},
   "outputs": [],
   "source": [
    "# list of continents with associated average GDP\n",
    "\n",
    "dfcontinent_gdp = dfcontinent['gdpPercap']\n",
    "dfcontinent_gdp"
   ]
  },
  {
   "cell_type": "code",
   "execution_count": null,
   "metadata": {},
   "outputs": [],
   "source": [
    "# Continents with the highest and lowest gdp \n",
    "\n",
    "continents = ['Africa','Americas','Asia','Europe','Oceania']\n",
    "colors = [ \"blue\", \"yellow\", 'red','green', 'Black']\n",
    "plt.bar(continents,dfcontinent_gdp, color= colors, alpha =.5, align ='center')\n",
    "\n",
    "plt.xlabel(\"Continents\")\n",
    "plt.ylabel(\"gdp per cap [in USD]\")\n",
    "plt.title('Continents with the highest and lowest gdp')\n",
    "\n",
    "# Add grid() call\n",
    "plt.grid(True)\n",
    "\n",
    "fig11 = plt.gcf()\n",
    "fig11.set_size_inches(10, 8)\n",
    "\n",
    "# Save the plot\n",
    "plt.savefig('Continents_with_the_highest_and_lowest_gdp.png')\n"
   ]
  },
  {
   "cell_type": "code",
   "execution_count": null,
   "metadata": {},
   "outputs": [],
   "source": [
    "# Continents with Highest and Lowest Life Expectancy\n",
    "\n",
    "continents = ['Africa','Americas','Asia','Europe','Oceania']\n",
    "colors = [ \"blue\", \"yellow\", 'red','green', 'Black']\n",
    "\n",
    "plt.bar(continents, dfcontinent['lifeExp'], color= colors, alpha =.5, align ='center')\n",
    "\n",
    "\n",
    "plt.xlabel (\"Continents\")\n",
    "plt.ylabel (\"Life Expectancy [in years]\")\n",
    "plt.title(\"Continents with Highest and Lowest Life Expectancy\")\n",
    "\n",
    "# Add grid() call\n",
    "plt.grid(True)\n",
    "\n",
    "fig12 = plt.gcf()\n",
    "fig12.set_size_inches(10, 8)\n",
    "\n",
    "# Save the plot\n",
    "plt.savefig('Continents_with_Highest_and_Lowest_Life_Expectancy.png')\n"
   ]
  },
  {
   "cell_type": "code",
   "execution_count": null,
   "metadata": {},
   "outputs": [],
   "source": [
    "# Continents with Highest and Lowest Population\n",
    "\n",
    "continents = ['Africa','Americas','Asia','Europe','Oceania']\n",
    "colors = [ \"blue\", \"yellow\", 'red','green', 'Black']\n",
    "plt.bar(continents, dfcontinent['pop'], color= colors, alpha =.5, align ='center')\n",
    "\n",
    "\n",
    "plt.xlabel (\"Continents\")\n",
    "plt.ylabel (\"Population [in Billions]\")\n",
    "plt.title(\"Continents with Highest and Lowest Population\")\n",
    "\n",
    "# Add grid() call\n",
    "plt.grid(True)\n",
    "\n",
    "fig13 = plt.gcf()\n",
    "fig13.set_size_inches(10, 8)\n",
    "\n",
    "# Save the plot\n",
    "plt.savefig('Continents_with_Highest_and_Lowest_Population.png')\n"
   ]
  },
  {
   "cell_type": "code",
   "execution_count": null,
   "metadata": {},
   "outputs": [],
   "source": []
  }
 ],
 "metadata": {
  "kernelspec": {
   "display_name": "Python 3",
   "language": "python",
   "name": "python3"
  },
  "language_info": {
   "codemirror_mode": {
    "name": "ipython",
    "version": 3
   },
   "file_extension": ".py",
   "mimetype": "text/x-python",
   "name": "python",
   "nbconvert_exporter": "python",
   "pygments_lexer": "ipython3",
   "version": "3.7.3"
  }
 },
 "nbformat": 4,
 "nbformat_minor": 2
}
